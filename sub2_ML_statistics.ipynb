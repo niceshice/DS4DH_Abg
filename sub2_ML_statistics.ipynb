{
 "cells": [
  {
   "cell_type": "code",
   "execution_count": 29,
   "metadata": {},
   "outputs": [],
   "source": [
    "import pandas as pd\n",
    "import numpy as np\n",
    "import itertools\n",
    "from scipy.stats import mannwhitneyu\n",
    "\n",
    "from sklearn.ensemble import AdaBoostClassifier, RandomForestClassifier\n",
    "from sklearn.neighbors import KNeighborsClassifier\n",
    "from sklearn.linear_model import SGDClassifier\n",
    "from sklearn.discriminant_analysis import QuadraticDiscriminantAnalysis\n",
    "from sklearn.naive_bayes import GaussianNB\n",
    "\n",
    "from sklearn.metrics import classification_report\n",
    "from tqdm import tqdm\n",
    "import json\n"
   ]
  },
  {
   "cell_type": "code",
   "execution_count": 16,
   "metadata": {},
   "outputs": [],
   "source": [
    "# Load the datasets\n",
    "train_data = pd.read_csv('reddit_exploded.csv')\n",
    "test_data = pd.read_csv('reddit_exploded_test.csv')"
   ]
  },
  {
   "cell_type": "code",
   "execution_count": 17,
   "metadata": {},
   "outputs": [],
   "source": [
    "# Extract features and target variable\n",
    "X_train = train_data.drop(columns=['LINK_SENTIMENT', 'PROPERTIES', 'TIMESTAMP'])\n",
    "y_train = train_data['LINK_SENTIMENT']\n",
    "\n",
    "X_test = test_data.drop(columns=['LINK_SENTIMENT', 'PROPERTIES', 'TIMESTAMP'])\n",
    "y_test = test_data['LINK_SENTIMENT']\n",
    "\n",
    "# List of feature columns\n",
    "features = ['Num_Characters', 'Num_Characters_No_Whitespace', 'Fraction_Alphabetical',\n",
    "    'Fraction_Digits', 'Fraction_Uppercase', 'Fraction_Whitespace',\n",
    "    'Fraction_Special_Characters', 'Num_Words', 'Num_Unique_Words',\n",
    "    'Num_Long_Words', 'Avg_Word_Length', 'Num_Unique_Stopwords',\n",
    "    'Fraction_Stopwords', 'Num_Sentences', 'Num_Long_Sentences',\n",
    "    'Avg_Characters_Per_Sentence', 'Avg_Words_Per_Sentence',\n",
    "    'Automated_Readability_Index', 'Positive_Sentiment_VADER',\n",
    "    'Negative_Sentiment_VADER', 'Compound_Sentiment_VADER',\n",
    "    'LIWC_Funct', 'LIWC_Pronoun', 'LIWC_Ppron', 'LIWC_I', 'LIWC_We',\n",
    "    'LIWC_You', 'LIWC_SheHe', 'LIWC_They', 'LIWC_Ipron', 'LIWC_Article',\n",
    "    'LIWC_Verbs', 'LIWC_AuxVb', 'LIWC_Past', 'LIWC_Present', 'LIWC_Future',\n",
    "    'LIWC_Adverbs', 'LIWC_Prep', 'LIWC_Conj', 'LIWC_Negate', 'LIWC_Quant',\n",
    "    'LIWC_Numbers', 'LIWC_Swear', 'LIWC_Social', 'LIWC_Family', 'LIWC_Friends',\n",
    "    'LIWC_Humans', 'LIWC_Affect', 'LIWC_Posemo', 'LIWC_Negemo', 'LIWC_Anx',\n",
    "    'LIWC_Anger', 'LIWC_Sad', 'LIWC_CogMech', 'LIWC_Insight', 'LIWC_Cause',\n",
    "    'LIWC_Discrep', 'LIWC_Tentat', 'LIWC_Certain', 'LIWC_Inhib', 'LIWC_Incl',\n",
    "    'LIWC_Excl', 'LIWC_Percept', 'LIWC_See', 'LIWC_Hear', 'LIWC_Feel',\n",
    "    'LIWC_Bio', 'LIWC_Body', 'LIWC_Health', 'LIWC_Sexual', 'LIWC_Ingest',\n",
    "    'LIWC_Relativ', 'LIWC_Motion', 'LIWC_Space', 'LIWC_Time', 'LIWC_Work',\n",
    "    'LIWC_Achiev', 'LIWC_Leisure', 'LIWC_Home', 'LIWC_Money', 'LIWC_Relig',\n",
    "    'LIWC_Death', 'LIWC_Assent', 'LIWC_Dissent', 'LIWC_Nonflu', 'LIWC_Filler',\n",
    "    'year', 'month', 'day', 'weekday', 'hour']\n",
    "\n",
    "# Select the features (needed?)\n",
    "X_train = X_train[features]\n",
    "X_test = X_test[features]\n"
   ]
  },
  {
   "cell_type": "code",
   "execution_count": 18,
   "metadata": {},
   "outputs": [],
   "source": [
    "# Initialize classifiers\n",
    "\n",
    "significance = 0.05\n",
    "num_runs = 10\n",
    "\n",
    "classifiers = [\n",
    "    ('AdaBoost', AdaBoostClassifier(random_state=0)),\n",
    "    ('RandomForest', RandomForestClassifier(n_estimators=10, random_state=0)),\n",
    "    ('KNeighbors', KNeighborsClassifier(10, n_jobs=6)),\n",
    "    ('NaiveBayes', GaussianNB()),\n",
    "    ('QDA', QuadraticDiscriminantAnalysis())\n",
    "]\n"
   ]
  },
  {
   "cell_type": "code",
   "execution_count": 19,
   "metadata": {},
   "outputs": [],
   "source": [
    "# Initialize a dictionary to store the raw metric values for each classifier\n",
    "metric_values = {clf_name: {'-1': {'precision': [], 'recall': [], 'f1-score': []},\n",
    "                            '1': {'precision': [], 'recall': [], 'f1-score': []}}\n",
    "                 for clf_name, clf in classifiers}\n"
   ]
  },
  {
   "cell_type": "code",
   "execution_count": 20,
   "metadata": {},
   "outputs": [
    {
     "data": {
      "text/plain": [
       "{'AdaBoost': {'-1': {'precision': [], 'recall': [], 'f1-score': []},\n",
       "  '1': {'precision': [], 'recall': [], 'f1-score': []}},\n",
       " 'RandomForest': {'-1': {'precision': [], 'recall': [], 'f1-score': []},\n",
       "  '1': {'precision': [], 'recall': [], 'f1-score': []}},\n",
       " 'KNeighbors': {'-1': {'precision': [], 'recall': [], 'f1-score': []},\n",
       "  '1': {'precision': [], 'recall': [], 'f1-score': []}},\n",
       " 'NaiveBayes': {'-1': {'precision': [], 'recall': [], 'f1-score': []},\n",
       "  '1': {'precision': [], 'recall': [], 'f1-score': []}},\n",
       " 'QDA': {'-1': {'precision': [], 'recall': [], 'f1-score': []},\n",
       "  '1': {'precision': [], 'recall': [], 'f1-score': []}}}"
      ]
     },
     "execution_count": 20,
     "metadata": {},
     "output_type": "execute_result"
    }
   ],
   "source": [
    "metric_values"
   ]
  },
  {
   "cell_type": "code",
   "execution_count": 21,
   "metadata": {},
   "outputs": [
    {
     "name": "stdout",
     "output_type": "stream",
     "text": [
      "AdaBoost 0\n",
      "RandomForest 0\n",
      "KNeighbors 0\n",
      "NaiveBayes 0\n",
      "QDA 0\n"
     ]
    },
    {
     "name": "stderr",
     "output_type": "stream",
     "text": [
      "C:\\Users\\cravi\\AppData\\Local\\Packages\\PythonSoftwareFoundation.Python.3.11_qbz5n2kfra8p0\\LocalCache\\local-packages\\Python311\\site-packages\\sklearn\\discriminant_analysis.py:926: UserWarning: Variables are collinear\n",
      "  warnings.warn(\"Variables are collinear\")\n"
     ]
    },
    {
     "name": "stdout",
     "output_type": "stream",
     "text": [
      "AdaBoost 1\n",
      "RandomForest 1\n",
      "KNeighbors 1\n",
      "NaiveBayes 1\n",
      "QDA 1\n"
     ]
    },
    {
     "name": "stderr",
     "output_type": "stream",
     "text": [
      "C:\\Users\\cravi\\AppData\\Local\\Packages\\PythonSoftwareFoundation.Python.3.11_qbz5n2kfra8p0\\LocalCache\\local-packages\\Python311\\site-packages\\sklearn\\discriminant_analysis.py:926: UserWarning: Variables are collinear\n",
      "  warnings.warn(\"Variables are collinear\")\n"
     ]
    },
    {
     "name": "stdout",
     "output_type": "stream",
     "text": [
      "AdaBoost 2\n",
      "RandomForest 2\n",
      "KNeighbors 2\n",
      "NaiveBayes 2\n",
      "QDA 2\n"
     ]
    },
    {
     "name": "stderr",
     "output_type": "stream",
     "text": [
      "C:\\Users\\cravi\\AppData\\Local\\Packages\\PythonSoftwareFoundation.Python.3.11_qbz5n2kfra8p0\\LocalCache\\local-packages\\Python311\\site-packages\\sklearn\\discriminant_analysis.py:926: UserWarning: Variables are collinear\n",
      "  warnings.warn(\"Variables are collinear\")\n"
     ]
    },
    {
     "name": "stdout",
     "output_type": "stream",
     "text": [
      "AdaBoost 3\n",
      "RandomForest 3\n",
      "KNeighbors 3\n",
      "NaiveBayes 3\n",
      "QDA 3\n"
     ]
    },
    {
     "name": "stderr",
     "output_type": "stream",
     "text": [
      "C:\\Users\\cravi\\AppData\\Local\\Packages\\PythonSoftwareFoundation.Python.3.11_qbz5n2kfra8p0\\LocalCache\\local-packages\\Python311\\site-packages\\sklearn\\discriminant_analysis.py:926: UserWarning: Variables are collinear\n",
      "  warnings.warn(\"Variables are collinear\")\n"
     ]
    },
    {
     "name": "stdout",
     "output_type": "stream",
     "text": [
      "AdaBoost 4\n",
      "RandomForest 4\n",
      "KNeighbors 4\n",
      "NaiveBayes 4\n",
      "QDA 4\n"
     ]
    },
    {
     "name": "stderr",
     "output_type": "stream",
     "text": [
      "C:\\Users\\cravi\\AppData\\Local\\Packages\\PythonSoftwareFoundation.Python.3.11_qbz5n2kfra8p0\\LocalCache\\local-packages\\Python311\\site-packages\\sklearn\\discriminant_analysis.py:926: UserWarning: Variables are collinear\n",
      "  warnings.warn(\"Variables are collinear\")\n"
     ]
    },
    {
     "name": "stdout",
     "output_type": "stream",
     "text": [
      "AdaBoost 5\n",
      "RandomForest 5\n",
      "KNeighbors 5\n",
      "NaiveBayes 5\n",
      "QDA 5\n"
     ]
    },
    {
     "name": "stderr",
     "output_type": "stream",
     "text": [
      "C:\\Users\\cravi\\AppData\\Local\\Packages\\PythonSoftwareFoundation.Python.3.11_qbz5n2kfra8p0\\LocalCache\\local-packages\\Python311\\site-packages\\sklearn\\discriminant_analysis.py:926: UserWarning: Variables are collinear\n",
      "  warnings.warn(\"Variables are collinear\")\n"
     ]
    },
    {
     "name": "stdout",
     "output_type": "stream",
     "text": [
      "AdaBoost 6\n",
      "RandomForest 6\n",
      "KNeighbors 6\n",
      "NaiveBayes 6\n",
      "QDA 6\n"
     ]
    },
    {
     "name": "stderr",
     "output_type": "stream",
     "text": [
      "C:\\Users\\cravi\\AppData\\Local\\Packages\\PythonSoftwareFoundation.Python.3.11_qbz5n2kfra8p0\\LocalCache\\local-packages\\Python311\\site-packages\\sklearn\\discriminant_analysis.py:926: UserWarning: Variables are collinear\n",
      "  warnings.warn(\"Variables are collinear\")\n"
     ]
    },
    {
     "name": "stdout",
     "output_type": "stream",
     "text": [
      "AdaBoost 7\n",
      "RandomForest 7\n",
      "KNeighbors 7\n",
      "NaiveBayes 7\n",
      "QDA 7\n"
     ]
    },
    {
     "name": "stderr",
     "output_type": "stream",
     "text": [
      "C:\\Users\\cravi\\AppData\\Local\\Packages\\PythonSoftwareFoundation.Python.3.11_qbz5n2kfra8p0\\LocalCache\\local-packages\\Python311\\site-packages\\sklearn\\discriminant_analysis.py:926: UserWarning: Variables are collinear\n",
      "  warnings.warn(\"Variables are collinear\")\n"
     ]
    },
    {
     "name": "stdout",
     "output_type": "stream",
     "text": [
      "AdaBoost 8\n",
      "RandomForest 8\n",
      "KNeighbors 8\n",
      "NaiveBayes 8\n",
      "QDA 8\n"
     ]
    },
    {
     "name": "stderr",
     "output_type": "stream",
     "text": [
      "C:\\Users\\cravi\\AppData\\Local\\Packages\\PythonSoftwareFoundation.Python.3.11_qbz5n2kfra8p0\\LocalCache\\local-packages\\Python311\\site-packages\\sklearn\\discriminant_analysis.py:926: UserWarning: Variables are collinear\n",
      "  warnings.warn(\"Variables are collinear\")\n"
     ]
    },
    {
     "name": "stdout",
     "output_type": "stream",
     "text": [
      "AdaBoost 9\n",
      "RandomForest 9\n",
      "KNeighbors 9\n",
      "NaiveBayes 9\n",
      "QDA 9\n"
     ]
    },
    {
     "name": "stderr",
     "output_type": "stream",
     "text": [
      "C:\\Users\\cravi\\AppData\\Local\\Packages\\PythonSoftwareFoundation.Python.3.11_qbz5n2kfra8p0\\LocalCache\\local-packages\\Python311\\site-packages\\sklearn\\discriminant_analysis.py:926: UserWarning: Variables are collinear\n",
      "  warnings.warn(\"Variables are collinear\")\n"
     ]
    }
   ],
   "source": [
    "\n",
    "# Run each classifier multiple times and collect metric values\n",
    "for _ in range(num_runs):\n",
    "    for clf_name, clf in classifiers:\n",
    "        # Print name and run\n",
    "        print(clf_name, _)\n",
    "        # Generate random state for each run\n",
    "        random_state = np.random.randint(1000)\n",
    "        clf.random_state = random_state\n",
    "        # Fit the classifier, make predictions, and calculate metrics\n",
    "        clf.fit(X_train, y_train)\n",
    "        y_pred = clf.predict(X_test)\n",
    "        report = classification_report(y_test, y_pred, output_dict=True)\n",
    "\n",
    "        # Store precision, recall, and F1-score for each class label separately\n",
    "        for class_label in ['-1', '1']:\n",
    "            metric_values[clf_name][class_label]['precision'].append(report[class_label]['precision'])\n",
    "            metric_values[clf_name][class_label]['recall'].append(report[class_label]['recall'])\n",
    "            metric_values[clf_name][class_label]['f1-score'].append(report[class_label]['f1-score'])\n"
   ]
  },
  {
   "cell_type": "code",
   "execution_count": 22,
   "metadata": {},
   "outputs": [
    {
     "name": "stdout",
     "output_type": "stream",
     "text": [
      "Best classifiers:\n",
      "Class -1, precision: AdaBoost, p-value: 0.0007104559900512436, best value: 0.5\n",
      "Class -1, recall: RandomForest, p-value: 3.1471935407810757e-05, best value: 0.11780104712041885\n",
      "Class -1, f1-score: NaiveBayes, p-value: 7.96895584403312e-06, best value: 0.16825396825396824\n",
      "Class 1, precision: RandomForest, p-value: 3.193222375218491e-05, best value: 0.9313925081433225\n",
      "Class 1, recall: AdaBoost, p-value: 3.17014370864701e-05, best value: 0.9995668182802686\n",
      "Class 1, f1-score: AdaBoost, p-value: 3.193222375218491e-05, best value: 0.9602580108198087\n"
     ]
    }
   ],
   "source": [
    "# Initialize a dictionary to store the best classifiers for each metric and class label\n",
    "best_classifiers = {'-1': {'precision': None, 'recall': None, 'f1-score': None},\n",
    "                    '1': {'precision': None, 'recall': None, 'f1-score': None}}\n",
    "\n",
    "for metric in ['precision', 'recall', 'f1-score']:\n",
    "    for class_label in ['-1', '1']:\n",
    "        best_classifier = None\n",
    "        best_p_value = 1.0\n",
    "        best_value = 0\n",
    "\n",
    "        for (clf_name1, _), (clf_name2, _) in itertools.combinations(classifiers, 2):\n",
    "            clf1_scores = metric_values[clf_name1][class_label][metric]\n",
    "            clf2_scores = metric_values[clf_name2][class_label][metric]\n",
    "\n",
    "            _, p_value = mannwhitneyu(clf1_scores, clf2_scores, alternative='greater')\n",
    "\n",
    "            if p_value < 0.05 and np.mean(clf1_scores) > np.mean(clf2_scores):\n",
    "                if best_classifier is None or np.mean(clf1_scores) > np.mean(metric_values[best_classifier][class_label][metric]):\n",
    "                    best_classifier = clf_name1\n",
    "                    best_p_value = p_value\n",
    "                    best_value = max(clf1_scores)\n",
    "            elif p_value < 0.05 and np.mean(clf2_scores) > np.mean(clf1_scores):\n",
    "                if best_classifier is None or np.mean(clf2_scores) > np.mean(metric_values[best_classifier][class_label][metric]):\n",
    "                    best_classifier = clf_name2\n",
    "                    best_p_value = p_value\n",
    "                    best_value = max(clf2_scores)\n",
    "\n",
    "        if best_classifier is not None:\n",
    "            best_classifiers[class_label][metric] = (best_classifier, best_p_value, best_value)\n",
    "\n",
    "# Print the best classifiers for each metric and class label and their p-values\n",
    "print(\"Best classifiers:\")\n",
    "for class_label in ['-1', '1']:\n",
    "    for metric, (clf_name, p_value, best) in best_classifiers[class_label].items():\n",
    "        print(f\"Class {class_label}, {metric}: {clf_name}, p-value: {p_value}, best value: {best}\")\n"
   ]
  },
  {
   "cell_type": "code",
   "execution_count": 31,
   "metadata": {},
   "outputs": [],
   "source": [
    "with open('ml_data/classifier_values.json', 'w') as json_file:\n",
    "    json.dump(metric_values, json_file, indent=4)"
   ]
  }
 ],
 "metadata": {
  "kernelspec": {
   "display_name": "Python 3",
   "language": "python",
   "name": "python3"
  },
  "language_info": {
   "codemirror_mode": {
    "name": "ipython",
    "version": 3
   },
   "file_extension": ".py",
   "mimetype": "text/x-python",
   "name": "python",
   "nbconvert_exporter": "python",
   "pygments_lexer": "ipython3",
   "version": "3.11.5"
  },
  "orig_nbformat": 4
 },
 "nbformat": 4,
 "nbformat_minor": 2
}
