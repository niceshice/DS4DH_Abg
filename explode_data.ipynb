{
 "cells": [
  {
   "cell_type": "code",
   "execution_count": 1,
   "metadata": {},
   "outputs": [],
   "source": [
    "import pandas as pd\n",
    "from tqdm import tqdm"
   ]
  },
  {
   "cell_type": "markdown",
   "metadata": {},
   "source": [
    "This script basically shows the extraction of the property vectors into a workable format. It also adds year, month, day, weekday and hour as features to work with them in the machine learning models.\n",
    "\n",
    "This script is \"just for show\" and should not be run without a good reason, as it is not very performant and takes around 4 hrs to extract the data."
   ]
  },
  {
   "cell_type": "code",
   "execution_count": null,
   "metadata": {},
   "outputs": [],
   "source": [
    "# Load the dataset\n",
    "train_data = pd.read_csv('soc-redditHyperlinks-body.tsv', sep=\"\\t\")\n",
    "\n",
    "# Make Dataframe for describing 'PROPERTIES'\n",
    "train_data_expl = pd.DataFrame(columns=[\n",
    "    'Num_Characters', 'Num_Characters_No_Whitespace', 'Fraction_Alphabetical',\n",
    "    'Fraction_Digits', 'Fraction_Uppercase', 'Fraction_Whitespace',\n",
    "    'Fraction_Special_Characters', 'Num_Words', 'Num_Unique_Words',\n",
    "    'Num_Long_Words', 'Avg_Word_Length', 'Num_Unique_Stopwords',\n",
    "    'Fraction_Stopwords', 'Num_Sentences', 'Num_Long_Sentences',\n",
    "    'Avg_Characters_Per_Sentence', 'Avg_Words_Per_Sentence',\n",
    "    'Automated_Readability_Index', 'Positive_Sentiment_VADER',\n",
    "    'Negative_Sentiment_VADER', 'Compound_Sentiment_VADER',\n",
    "    'LIWC_Funct', 'LIWC_Pronoun', 'LIWC_Ppron', 'LIWC_I', 'LIWC_We',\n",
    "    'LIWC_You', 'LIWC_SheHe', 'LIWC_They', 'LIWC_Ipron', 'LIWC_Article',\n",
    "    'LIWC_Verbs', 'LIWC_AuxVb', 'LIWC_Past', 'LIWC_Present', 'LIWC_Future',\n",
    "    'LIWC_Adverbs', 'LIWC_Prep', 'LIWC_Conj', 'LIWC_Negate', 'LIWC_Quant',\n",
    "    'LIWC_Numbers', 'LIWC_Swear', 'LIWC_Social', 'LIWC_Family', 'LIWC_Friends',\n",
    "    'LIWC_Humans', 'LIWC_Affect', 'LIWC_Posemo', 'LIWC_Negemo', 'LIWC_Anx',\n",
    "    'LIWC_Anger', 'LIWC_Sad', 'LIWC_CogMech', 'LIWC_Insight', 'LIWC_Cause',\n",
    "    'LIWC_Discrep', 'LIWC_Tentat', 'LIWC_Certain', 'LIWC_Inhib', 'LIWC_Incl',\n",
    "    'LIWC_Excl', 'LIWC_Percept', 'LIWC_See', 'LIWC_Hear', 'LIWC_Feel',\n",
    "    'LIWC_Bio', 'LIWC_Body', 'LIWC_Health', 'LIWC_Sexual', 'LIWC_Ingest',\n",
    "    'LIWC_Relativ', 'LIWC_Motion', 'LIWC_Space', 'LIWC_Time', 'LIWC_Work',\n",
    "    'LIWC_Achiev', 'LIWC_Leisure', 'LIWC_Home', 'LIWC_Money', 'LIWC_Relig',\n",
    "    'LIWC_Death', 'LIWC_Assent', 'LIWC_Dissent', 'LIWC_Nonflu', 'LIWC_Filler'\n",
    "])\n",
    "\n",
    "# Iterate through each row to map the list elements to respective columns\n",
    "for index, row in tqdm(train_data.iterrows()):\n",
    "    properties_str = row['PROPERTIES']\n",
    "    properties_list = [float(value) for value in properties_str.split(',')]  # Split and convert to float\n",
    "    train_data_expl.loc[index] = properties_list"
   ]
  },
  {
   "cell_type": "code",
   "execution_count": null,
   "metadata": {},
   "outputs": [],
   "source": [
    "train_data = pd.concat([train_data, train_data_expl], axis=1)"
   ]
  },
  {
   "cell_type": "code",
   "execution_count": null,
   "metadata": {},
   "outputs": [],
   "source": [
    "# Converting 'TIMESTAMP' to datetime format\n",
    "train_data['TIMESTAMP'] = pd.to_datetime(train_data['TIMESTAMP'])\n",
    "\n",
    "# Extract year, month, day, weekday, and hour\n",
    "train_data['year'] = train_data['TIMESTAMP'].dt.year\n",
    "train_data['month'] = train_data['TIMESTAMP'].dt.month\n",
    "train_data['day'] = train_data['TIMESTAMP'].dt.day\n",
    "train_data['weekday'] = train_data['TIMESTAMP'].dt.weekday  # Monday is 0, Sunday is 6\n",
    "train_data['hour'] = train_data['TIMESTAMP'].dt.hour\n",
    "train_data.to_csv('reddit_exploded.csv')"
   ]
  }
 ],
 "metadata": {
  "kernelspec": {
   "display_name": "Python 3",
   "language": "python",
   "name": "python3"
  },
  "language_info": {
   "codemirror_mode": {
    "name": "ipython",
    "version": 3
   },
   "file_extension": ".py",
   "mimetype": "text/x-python",
   "name": "python",
   "nbconvert_exporter": "python",
   "pygments_lexer": "ipython3",
   "version": "3.11.5"
  },
  "orig_nbformat": 4
 },
 "nbformat": 4,
 "nbformat_minor": 2
}
