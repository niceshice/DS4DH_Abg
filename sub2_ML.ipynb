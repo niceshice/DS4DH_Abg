{
 "cells": [
  {
   "cell_type": "code",
   "execution_count": 5,
   "metadata": {},
   "outputs": [],
   "source": [
    "import pandas as pd\n",
    "\n",
    "from sklearn.ensemble import AdaBoostClassifier, RandomForestClassifier\n",
    "from sklearn.neighbors import KNeighborsClassifier\n",
    "from sklearn.neural_network import MLPClassifier\n",
    "from sklearn.tree import DecisionTreeClassifier\n",
    "from sklearn.svm import SVC\n",
    "\n",
    "\n",
    "from sklearn.metrics import classification_report\n",
    "from tqdm import tqdm\n"
   ]
  },
  {
   "cell_type": "code",
   "execution_count": 8,
   "metadata": {},
   "outputs": [],
   "source": [
    "\n",
    "# Load the datasets\n",
    "train_data = pd.read_csv('reddit_exploded.csv')\n",
    "test_data = pd.read_csv('soc-redditHyperlinks-body-test.tsv', sep='\\t')\n"
   ]
  },
  {
   "cell_type": "code",
   "execution_count": 9,
   "metadata": {},
   "outputs": [],
   "source": [
    "\n",
    "# Extract features and target variable\n",
    "X_train = train_data.drop(columns=['LINK_SENTIMENT', 'PROPERTIES', 'TIMESTAMP'])\n",
    "y_train = train_data['LINK_SENTIMENT']\n",
    "\n",
    "X_test = train_data.drop(columns=['LINK_SENTIMENT', 'PROPERTIES', 'TIMESTAMP'])\n",
    "y_test = train_data['LINK_SENTIMENT']\n",
    "\n",
    "# # Split the data into training and testing sets\n",
    "# X_train, X_test, y_train, y_test = train_test_split(X, y, test_size=0.01, random_state=69)\n",
    "\n",
    "# List of text feature columns\n",
    "text_features = ['Num_Characters', 'Num_Characters_No_Whitespace', 'Fraction_Alphabetical',\n",
    "    'Fraction_Digits', 'Fraction_Uppercase', 'Fraction_Whitespace',\n",
    "    'Fraction_Special_Characters', 'Num_Words', 'Num_Unique_Words',\n",
    "    'Num_Long_Words', 'Avg_Word_Length', 'Num_Unique_Stopwords',\n",
    "    'Fraction_Stopwords', 'Num_Sentences', 'Num_Long_Sentences',\n",
    "    'Avg_Characters_Per_Sentence', 'Avg_Words_Per_Sentence',\n",
    "    'Automated_Readability_Index', 'Positive_Sentiment_VADER',\n",
    "    'Negative_Sentiment_VADER', 'Compound_Sentiment_VADER',\n",
    "    'LIWC_Funct', 'LIWC_Pronoun', 'LIWC_Ppron', 'LIWC_I', 'LIWC_We',\n",
    "    'LIWC_You', 'LIWC_SheHe', 'LIWC_They', 'LIWC_Ipron', 'LIWC_Article',\n",
    "    'LIWC_Verbs', 'LIWC_AuxVb', 'LIWC_Past', 'LIWC_Present', 'LIWC_Future',\n",
    "    'LIWC_Adverbs', 'LIWC_Prep', 'LIWC_Conj', 'LIWC_Negate', 'LIWC_Quant',\n",
    "    'LIWC_Numbers', 'LIWC_Swear', 'LIWC_Social', 'LIWC_Family', 'LIWC_Friends',\n",
    "    'LIWC_Humans', 'LIWC_Affect', 'LIWC_Posemo', 'LIWC_Negemo', 'LIWC_Anx',\n",
    "    'LIWC_Anger', 'LIWC_Sad', 'LIWC_CogMech', 'LIWC_Insight', 'LIWC_Cause',\n",
    "    'LIWC_Discrep', 'LIWC_Tentat', 'LIWC_Certain', 'LIWC_Inhib', 'LIWC_Incl',\n",
    "    'LIWC_Excl', 'LIWC_Percept', 'LIWC_See', 'LIWC_Hear', 'LIWC_Feel',\n",
    "    'LIWC_Bio', 'LIWC_Body', 'LIWC_Health', 'LIWC_Sexual', 'LIWC_Ingest',\n",
    "    'LIWC_Relativ', 'LIWC_Motion', 'LIWC_Space', 'LIWC_Time', 'LIWC_Work',\n",
    "    'LIWC_Achiev', 'LIWC_Leisure', 'LIWC_Home', 'LIWC_Money', 'LIWC_Relig',\n",
    "    'LIWC_Death', 'LIWC_Assent', 'LIWC_Dissent', 'LIWC_Nonflu', 'LIWC_Filler']\n",
    "\n",
    "# List of numerical feature columns\n",
    "numeric_features = ['year', 'month', 'day', 'weekday', 'hour']\n",
    "\n",
    "# Select the text and numerical features\n",
    "X_train_text = X_train[text_features]\n",
    "X_test_text = X_test[text_features]\n",
    "\n",
    "X_train_numeric = X_train[numeric_features]\n",
    "X_test_numeric = X_test[numeric_features]\n",
    "\n",
    "# Combine the features\n",
    "X_train_combined = pd.concat([X_train_text, X_train_numeric], axis=1)\n",
    "X_test_combined = pd.concat([X_test_text, X_test_numeric], axis=1)\n"
   ]
  },
  {
   "cell_type": "code",
   "execution_count": 10,
   "metadata": {},
   "outputs": [
    {
     "name": "stdout",
     "output_type": "stream",
     "text": [
      "              precision    recall  f1-score   support\n",
      "\n",
      "          -1       0.61      0.08      0.14     20688\n",
      "           1       0.93      1.00      0.96    260874\n",
      "\n",
      "    accuracy                           0.93    281562\n",
      "   macro avg       0.77      0.54      0.55    281562\n",
      "weighted avg       0.91      0.93      0.90    281562\n",
      "\n"
     ]
    }
   ],
   "source": [
    "# Train a machine learning model\n",
    "clf = KNeighborsClassifier(10, n_jobs=6)\n",
    "clf.fit(X_train_combined, y_train)\n",
    "\n",
    "# Make predictions on the test set\n",
    "y_pred = clf.predict(X_test_combined)\n",
    "\n",
    "# Evaluate the model\n",
    "print(classification_report(y_test, y_pred))"
   ]
  },
  {
   "cell_type": "code",
   "execution_count": 11,
   "metadata": {},
   "outputs": [
    {
     "name": "stderr",
     "output_type": "stream",
     "text": [
      "C:\\Users\\cravi\\AppData\\Local\\Packages\\PythonSoftwareFoundation.Python.3.11_qbz5n2kfra8p0\\LocalCache\\local-packages\\Python311\\site-packages\\sklearn\\svm\\_base.py:1244: ConvergenceWarning: Liblinear failed to converge, increase the number of iterations.\n",
      "  warnings.warn(\n"
     ]
    },
    {
     "name": "stdout",
     "output_type": "stream",
     "text": [
      "              precision    recall  f1-score   support\n",
      "\n",
      "          -1       0.05      0.00      0.00     20688\n",
      "           1       0.93      1.00      0.96    260874\n",
      "\n",
      "    accuracy                           0.93    281562\n",
      "   macro avg       0.49      0.50      0.48    281562\n",
      "weighted avg       0.86      0.93      0.89    281562\n",
      "\n"
     ]
    }
   ],
   "source": [
    "# Train a machine learning model\n",
    "from sklearn.calibration import LinearSVC\n",
    "\n",
    "\n",
    "clf = LinearSVC(random_state=42) # non-linear SVC takes too long on \"large\" datasets\n",
    "clf.fit(X_train_combined, y_train)\n",
    "\n",
    "# Make predictions on the test set\n",
    "y_pred = clf.predict(X_test_combined)\n",
    "\n",
    "# Evaluate the model\n",
    "print(classification_report(y_test, y_pred))"
   ]
  },
  {
   "cell_type": "code",
   "execution_count": 12,
   "metadata": {},
   "outputs": [
    {
     "name": "stdout",
     "output_type": "stream",
     "text": [
      "              precision    recall  f1-score   support\n",
      "\n",
      "          -1       0.09      0.53      0.16     20688\n",
      "           1       0.94      0.59      0.73    260874\n",
      "\n",
      "    accuracy                           0.59    281562\n",
      "   macro avg       0.52      0.56      0.44    281562\n",
      "weighted avg       0.88      0.59      0.69    281562\n",
      "\n"
     ]
    }
   ],
   "source": [
    "# Train a machine learning model\n",
    "from sklearn.linear_model import SGDClassifier\n",
    "\n",
    "\n",
    "clf = SGDClassifier(random_state=42)\n",
    "clf.fit(X_train_combined, y_train)\n",
    "\n",
    "# Make predictions on the test set\n",
    "y_pred = clf.predict(X_test_combined)\n",
    "\n",
    "# Evaluate the model\n",
    "print(classification_report(y_test, y_pred))"
   ]
  },
  {
   "cell_type": "code",
   "execution_count": 13,
   "metadata": {},
   "outputs": [],
   "source": [
    "# # Train a machine learning model\n",
    "# clf = SVC(gamma='scale', random_state=42) # Again, not linear \n",
    "# clf.fit(X_train_combined, y_train)\n",
    "\n",
    "# # Make predictions on the test set\n",
    "# y_pred = clf.predict(X_test_combined)\n",
    "\n",
    "# # Evaluate the model\n",
    "# print(classification_report(y_test, y_pred))"
   ]
  },
  {
   "cell_type": "code",
   "execution_count": 14,
   "metadata": {},
   "outputs": [],
   "source": [
    "# # Train a machine learning model; GPC seems to take very long\n",
    "# clf = GaussianProcessClassifier(1.0 * RBF(1.0), random_state=42)\n",
    "# clf.fit(X_train_combined, y_train)\n",
    "\n",
    "# # Make predictions on the test set\n",
    "# y_pred = clf.predict(X_test_combined)\n",
    "\n",
    "# # Evaluate the model\n",
    "# print(classification_report(y_test, y_pred))"
   ]
  },
  {
   "cell_type": "code",
   "execution_count": 15,
   "metadata": {},
   "outputs": [
    {
     "name": "stdout",
     "output_type": "stream",
     "text": [
      "              precision    recall  f1-score   support\n",
      "\n",
      "          -1       0.97      0.01      0.01     20688\n",
      "           1       0.93      1.00      0.96    260874\n",
      "\n",
      "    accuracy                           0.93    281562\n",
      "   macro avg       0.95      0.50      0.49    281562\n",
      "weighted avg       0.93      0.93      0.89    281562\n",
      "\n"
     ]
    }
   ],
   "source": [
    "# Train a machine learning model\n",
    "clf = DecisionTreeClassifier(max_depth=5, random_state=42)\n",
    "clf.fit(X_train_combined, y_train)\n",
    "\n",
    "# Make predictions on the test set\n",
    "y_pred = clf.predict(X_test_combined)\n",
    "\n",
    "# Evaluate the model\n",
    "print(classification_report(y_test, y_pred))"
   ]
  },
  {
   "cell_type": "code",
   "execution_count": 16,
   "metadata": {},
   "outputs": [
    {
     "name": "stdout",
     "output_type": "stream",
     "text": [
      "              precision    recall  f1-score   support\n",
      "\n",
      "          -1       0.99      0.99      0.99     20688\n",
      "           1       1.00      1.00      1.00    260874\n",
      "\n",
      "    accuracy                           1.00    281562\n",
      "   macro avg       1.00      0.99      1.00    281562\n",
      "weighted avg       1.00      1.00      1.00    281562\n",
      "\n"
     ]
    }
   ],
   "source": [
    "# Train a machine learning model\n",
    "clf = RandomForestClassifier(n_estimators=100, random_state=42)\n",
    "clf.fit(X_train_combined, y_train)\n",
    "\n",
    "# Make predictions on the test set\n",
    "y_pred = clf.predict(X_test_combined)\n",
    "\n",
    "# Evaluate the model\n",
    "print(classification_report(y_test, y_pred))"
   ]
  },
  {
   "cell_type": "code",
   "execution_count": 17,
   "metadata": {},
   "outputs": [
    {
     "name": "stdout",
     "output_type": "stream",
     "text": [
      "              precision    recall  f1-score   support\n",
      "\n",
      "          -1       0.00      0.00      0.00     20688\n",
      "           1       0.93      1.00      0.96    260874\n",
      "\n",
      "    accuracy                           0.93    281562\n",
      "   macro avg       0.46      0.50      0.48    281562\n",
      "weighted avg       0.86      0.93      0.89    281562\n",
      "\n"
     ]
    }
   ],
   "source": [
    "# Train a machine learning model\n",
    "clf = MLPClassifier(alpha=1, max_iter=1500, random_state=42)\n",
    "clf.fit(X_train_combined, y_train)\n",
    "\n",
    "# Make predictions on the test set\n",
    "y_pred = clf.predict(X_test_combined)\n",
    "\n",
    "# Evaluate the model\n",
    "print(classification_report(y_test, y_pred))"
   ]
  },
  {
   "cell_type": "code",
   "execution_count": 18,
   "metadata": {},
   "outputs": [
    {
     "name": "stdout",
     "output_type": "stream",
     "text": [
      "              precision    recall  f1-score   support\n",
      "\n",
      "          -1       0.52      0.01      0.02     20688\n",
      "           1       0.93      1.00      0.96    260874\n",
      "\n",
      "    accuracy                           0.93    281562\n",
      "   macro avg       0.72      0.51      0.49    281562\n",
      "weighted avg       0.90      0.93      0.89    281562\n",
      "\n"
     ]
    }
   ],
   "source": [
    "# Train a machine learning model\n",
    "clf = AdaBoostClassifier(random_state=42)\n",
    "clf.fit(X_train_combined, y_train)\n",
    "\n",
    "# Make predictions on the test set\n",
    "y_pred = clf.predict(X_test_combined)\n",
    "\n",
    "# Evaluate the model\n",
    "print(classification_report(y_test, y_pred))"
   ]
  },
  {
   "cell_type": "code",
   "execution_count": 19,
   "metadata": {},
   "outputs": [
    {
     "name": "stdout",
     "output_type": "stream",
     "text": [
      "              precision    recall  f1-score   support\n",
      "\n",
      "          -1       0.14      0.15      0.14     20688\n",
      "           1       0.93      0.92      0.93    260874\n",
      "\n",
      "    accuracy                           0.87    281562\n",
      "   macro avg       0.53      0.54      0.54    281562\n",
      "weighted avg       0.87      0.87      0.87    281562\n",
      "\n"
     ]
    }
   ],
   "source": [
    "# Train a machine learning model\n",
    "from sklearn.naive_bayes import GaussianNB\n",
    "\n",
    "clf = GaussianNB()\n",
    "clf.fit(X_train_combined, y_train)\n",
    "\n",
    "# Make predictions on the test set\n",
    "y_pred = clf.predict(X_test_combined)\n",
    "\n",
    "# Evaluate the model\n",
    "print(classification_report(y_test, y_pred))"
   ]
  },
  {
   "cell_type": "code",
   "execution_count": 20,
   "metadata": {},
   "outputs": [
    {
     "name": "stderr",
     "output_type": "stream",
     "text": [
      "C:\\Users\\cravi\\AppData\\Local\\Packages\\PythonSoftwareFoundation.Python.3.11_qbz5n2kfra8p0\\LocalCache\\local-packages\\Python311\\site-packages\\sklearn\\discriminant_analysis.py:926: UserWarning: Variables are collinear\n",
      "  warnings.warn(\"Variables are collinear\")\n"
     ]
    },
    {
     "name": "stdout",
     "output_type": "stream",
     "text": [
      "              precision    recall  f1-score   support\n",
      "\n",
      "          -1       0.09      0.84      0.17     20688\n",
      "           1       0.96      0.35      0.52    260874\n",
      "\n",
      "    accuracy                           0.39    281562\n",
      "   macro avg       0.53      0.59      0.34    281562\n",
      "weighted avg       0.90      0.39      0.49    281562\n",
      "\n"
     ]
    }
   ],
   "source": [
    "# Train a machine learning model\n",
    "from sklearn.discriminant_analysis import QuadraticDiscriminantAnalysis\n",
    "\n",
    "\n",
    "clf = QuadraticDiscriminantAnalysis()\n",
    "clf.fit(X_train_combined, y_train)\n",
    "\n",
    "# Make predictions on the test set\n",
    "y_pred = clf.predict(X_test_combined)\n",
    "\n",
    "# Evaluate the model\n",
    "print(classification_report(y_test, y_pred))"
   ]
  },
  {
   "cell_type": "code",
   "execution_count": null,
   "metadata": {},
   "outputs": [],
   "source": []
  }
 ],
 "metadata": {
  "kernelspec": {
   "display_name": "Python 3",
   "language": "python",
   "name": "python3"
  },
  "language_info": {
   "codemirror_mode": {
    "name": "ipython",
    "version": 3
   },
   "file_extension": ".py",
   "mimetype": "text/x-python",
   "name": "python",
   "nbconvert_exporter": "python",
   "pygments_lexer": "ipython3",
   "version": "3.11.5"
  },
  "orig_nbformat": 4
 },
 "nbformat": 4,
 "nbformat_minor": 2
}
